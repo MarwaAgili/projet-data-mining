{
 "cells": [
  {
   "cell_type": "markdown",
   "id": "ea4132fc",
   "metadata": {},
   "source": [
    "   # Projet-Fouille de Données\n",
    "            Thème: Classification des Tweets"
   ]
  },
  {
   "cell_type": "code",
   "execution_count": null,
   "id": "fe3da913",
   "metadata": {},
   "outputs": [],
   "source": [
    "#importation des bibliothèques nécessaires :"
   ]
  },
  {
   "cell_type": "code",
   "execution_count": 26,
   "id": "2cb4c20c",
   "metadata": {},
   "outputs": [],
   "source": [
    "import pandas as pd\n",
    "import re\n",
    "import nltk"
   ]
  },
  {
   "cell_type": "code",
   "execution_count": null,
   "id": "29cc6f73",
   "metadata": {},
   "outputs": [],
   "source": [
    "#Chargement du fichier CSV : Base de données :"
   ]
  },
  {
   "cell_type": "code",
   "execution_count": 27,
   "id": "72219aa0",
   "metadata": {},
   "outputs": [],
   "source": [
    "tweets = pd.read_csv(\"C:/Users/marwa/Downloads/tweets.csv\")"
   ]
  },
  {
   "cell_type": "code",
   "execution_count": null,
   "id": "085e7424",
   "metadata": {},
   "outputs": [],
   "source": [
    "#affichage du cinq premières lignes :"
   ]
  },
  {
   "cell_type": "code",
   "execution_count": 28,
   "id": "edf182ea",
   "metadata": {
    "scrolled": true
   },
   "outputs": [
    {
     "name": "stdout",
     "output_type": "stream",
     "text": [
      "      author                                            content country  \\\n",
      "0  katyperry  Is history repeating itself...?#DONTNORMALIZEH...     NaN   \n",
      "1  katyperry  @barackobama Thank you for your incredible gra...     NaN   \n",
      "2  katyperry                Life goals. https://t.co/XIn1qKMKQl     NaN   \n",
      "3  katyperry            Me right now 🙏🏻 https://t.co/gW55C1wrwd     NaN   \n",
      "4  katyperry  SISTERS ARE DOIN' IT FOR THEMSELVES! 🙌🏻💪🏻❤️ ht...     NaN   \n",
      "\n",
      "          date_time            id language  latitude  longitude  \\\n",
      "0  12/01/2017 19:52  8.196330e+17       en       NaN        NaN   \n",
      "1  11/01/2017 08:38  8.191010e+17       en       NaN        NaN   \n",
      "2  11/01/2017 02:52  8.190140e+17       en       NaN        NaN   \n",
      "3  11/01/2017 02:44  8.190120e+17       en       NaN        NaN   \n",
      "4  10/01/2017 05:22  8.186890e+17       en       NaN        NaN   \n",
      "\n",
      "   number_of_likes  number_of_shares  \n",
      "0             7900              3472  \n",
      "1             3689              1380  \n",
      "2            10341              2387  \n",
      "3            10774              2458  \n",
      "4            17620              4655  \n"
     ]
    }
   ],
   "source": [
    "print(tweets.head())"
   ]
  },
  {
   "cell_type": "code",
   "execution_count": null,
   "id": "d808ca42",
   "metadata": {},
   "outputs": [],
   "source": [
    "#nettoyage du texte:\n",
    "#Supprimez les hashtags, les mentions, les URL et les caractères spéciaux."
   ]
  },
  {
   "cell_type": "code",
   "execution_count": 29,
   "id": "405b4d42",
   "metadata": {
    "scrolled": false
   },
   "outputs": [],
   "source": [
    "def clean_tweet(tweet):\n",
    "    tweet = re.sub(r'http\\S+', '', tweet)  # Retirer les URL\n",
    "    tweet = re.sub(r'@\\w+', '', tweet)    # Retirer les mentions\n",
    "    tweet = re.sub(r'#\\w+', '', tweet)    # Retirer les hashtags\n",
    "    tweet = re.sub(r'\\W+', ' ', tweet)   # Supprimer caractères spéciaux\n",
    "    return tweet.lower()\n",
    "\n",
    "tweets['cleaned_text'] = tweets['content'].apply(clean_tweet)"
   ]
  },
  {
   "cell_type": "code",
   "execution_count": 30,
   "id": "de9e08a7",
   "metadata": {},
   "outputs": [
    {
     "name": "stdout",
     "output_type": "stream",
     "text": [
      "      author                                            content country  \\\n",
      "0  katyperry  Is history repeating itself...?#DONTNORMALIZEH...     NaN   \n",
      "1  katyperry  @barackobama Thank you for your incredible gra...     NaN   \n",
      "2  katyperry                Life goals. https://t.co/XIn1qKMKQl     NaN   \n",
      "3  katyperry            Me right now 🙏🏻 https://t.co/gW55C1wrwd     NaN   \n",
      "4  katyperry  SISTERS ARE DOIN' IT FOR THEMSELVES! 🙌🏻💪🏻❤️ ht...     NaN   \n",
      "\n",
      "          date_time            id language  latitude  longitude  \\\n",
      "0  12/01/2017 19:52  8.196330e+17       en       NaN        NaN   \n",
      "1  11/01/2017 08:38  8.191010e+17       en       NaN        NaN   \n",
      "2  11/01/2017 02:52  8.190140e+17       en       NaN        NaN   \n",
      "3  11/01/2017 02:44  8.190120e+17       en       NaN        NaN   \n",
      "4  10/01/2017 05:22  8.186890e+17       en       NaN        NaN   \n",
      "\n",
      "   number_of_likes  number_of_shares  \\\n",
      "0             7900              3472   \n",
      "1             3689              1380   \n",
      "2            10341              2387   \n",
      "3            10774              2458   \n",
      "4            17620              4655   \n",
      "\n",
      "                                        cleaned_text  \n",
      "0                       is history repeating itself   \n",
      "1   thank you for your incredible grace in leader...  \n",
      "2                                        life goals   \n",
      "3                                      me right now   \n",
      "4                sisters are doin it for themselves   \n"
     ]
    }
   ],
   "source": [
    "print(tweets.head())"
   ]
  },
  {
   "cell_type": "code",
   "execution_count": null,
   "id": "173c75ee",
   "metadata": {},
   "outputs": [],
   "source": [
    "#Tokenisation et suppression des stopwords:\n",
    "#découper le texte en mots et supprimer les mots inutiles"
   ]
  },
  {
   "cell_type": "code",
   "execution_count": 31,
   "id": "c9187211",
   "metadata": {},
   "outputs": [
    {
     "name": "stderr",
     "output_type": "stream",
     "text": [
      "[nltk_data] Downloading package stopwords to\n",
      "[nltk_data]     C:\\Users\\marwa\\AppData\\Roaming\\nltk_data...\n",
      "[nltk_data]   Package stopwords is already up-to-date!\n",
      "[nltk_data] Downloading package punkt to\n",
      "[nltk_data]     C:\\Users\\marwa\\AppData\\Roaming\\nltk_data...\n",
      "[nltk_data]   Package punkt is already up-to-date!\n"
     ]
    }
   ],
   "source": [
    "from nltk.corpus import stopwords\n",
    "nltk.download('stopwords')\n",
    "nltk.download('punkt')\n",
    "\n",
    "stop_words = set(stopwords.words('english'))\n",
    "\n",
    "def preprocess(tweet):\n",
    "    tokens = nltk.word_tokenize(tweet)\n",
    "    return [word for word in tokens if word not in stop_words]\n",
    "\n",
    "tweets['tokens'] = tweets['cleaned_text'].apply(preprocess)\n"
   ]
  },
  {
   "cell_type": "code",
   "execution_count": 32,
   "id": "0f388004",
   "metadata": {},
   "outputs": [
    {
     "name": "stdout",
     "output_type": "stream",
     "text": [
      "      author                                            content country  \\\n",
      "0  katyperry  Is history repeating itself...?#DONTNORMALIZEH...     NaN   \n",
      "1  katyperry  @barackobama Thank you for your incredible gra...     NaN   \n",
      "2  katyperry                Life goals. https://t.co/XIn1qKMKQl     NaN   \n",
      "3  katyperry            Me right now 🙏🏻 https://t.co/gW55C1wrwd     NaN   \n",
      "4  katyperry  SISTERS ARE DOIN' IT FOR THEMSELVES! 🙌🏻💪🏻❤️ ht...     NaN   \n",
      "\n",
      "          date_time            id language  latitude  longitude  \\\n",
      "0  12/01/2017 19:52  8.196330e+17       en       NaN        NaN   \n",
      "1  11/01/2017 08:38  8.191010e+17       en       NaN        NaN   \n",
      "2  11/01/2017 02:52  8.190140e+17       en       NaN        NaN   \n",
      "3  11/01/2017 02:44  8.190120e+17       en       NaN        NaN   \n",
      "4  10/01/2017 05:22  8.186890e+17       en       NaN        NaN   \n",
      "\n",
      "   number_of_likes  number_of_shares  \\\n",
      "0             7900              3472   \n",
      "1             3689              1380   \n",
      "2            10341              2387   \n",
      "3            10774              2458   \n",
      "4            17620              4655   \n",
      "\n",
      "                                        cleaned_text  \\\n",
      "0                       is history repeating itself    \n",
      "1   thank you for your incredible grace in leader...   \n",
      "2                                        life goals    \n",
      "3                                      me right now    \n",
      "4                sisters are doin it for themselves    \n",
      "\n",
      "                                              tokens  \n",
      "0                               [history, repeating]  \n",
      "1  [thank, incredible, grace, leadership, excepti...  \n",
      "2                                      [life, goals]  \n",
      "3                                            [right]  \n",
      "4                                    [sisters, doin]  \n"
     ]
    }
   ],
   "source": [
    "print(tweets.head())"
   ]
  },
  {
   "cell_type": "code",
   "execution_count": 9,
   "id": "b45971e3",
   "metadata": {},
   "outputs": [],
   "source": [
    "#Transformation des tweets en vecteurs avec TF-IDF (Term Frequency-Inverse Document Frequency)"
   ]
  },
  {
   "cell_type": "code",
   "execution_count": 33,
   "id": "c31fdbf7",
   "metadata": {},
   "outputs": [],
   "source": [
    "from sklearn.feature_extraction.text import TfidfVectorizer\n",
    "vectorizer = TfidfVectorizer()\n",
    "X = vectorizer.fit_transform(tweets['cleaned_text'])\n"
   ]
  },
  {
   "cell_type": "code",
   "execution_count": 34,
   "id": "bbfec4ac",
   "metadata": {},
   "outputs": [
    {
     "name": "stdout",
     "output_type": "stream",
     "text": [
      "      author                                            content country  \\\n",
      "0  katyperry  Is history repeating itself...?#DONTNORMALIZEH...     NaN   \n",
      "1  katyperry  @barackobama Thank you for your incredible gra...     NaN   \n",
      "2  katyperry                Life goals. https://t.co/XIn1qKMKQl     NaN   \n",
      "3  katyperry            Me right now 🙏🏻 https://t.co/gW55C1wrwd     NaN   \n",
      "4  katyperry  SISTERS ARE DOIN' IT FOR THEMSELVES! 🙌🏻💪🏻❤️ ht...     NaN   \n",
      "\n",
      "          date_time            id language  latitude  longitude  \\\n",
      "0  12/01/2017 19:52  8.196330e+17       en       NaN        NaN   \n",
      "1  11/01/2017 08:38  8.191010e+17       en       NaN        NaN   \n",
      "2  11/01/2017 02:52  8.190140e+17       en       NaN        NaN   \n",
      "3  11/01/2017 02:44  8.190120e+17       en       NaN        NaN   \n",
      "4  10/01/2017 05:22  8.186890e+17       en       NaN        NaN   \n",
      "\n",
      "   number_of_likes  number_of_shares  \\\n",
      "0             7900              3472   \n",
      "1             3689              1380   \n",
      "2            10341              2387   \n",
      "3            10774              2458   \n",
      "4            17620              4655   \n",
      "\n",
      "                                        cleaned_text  \\\n",
      "0                       is history repeating itself    \n",
      "1   thank you for your incredible grace in leader...   \n",
      "2                                        life goals    \n",
      "3                                      me right now    \n",
      "4                sisters are doin it for themselves    \n",
      "\n",
      "                                              tokens  \n",
      "0                               [history, repeating]  \n",
      "1  [thank, incredible, grace, leadership, excepti...  \n",
      "2                                      [life, goals]  \n",
      "3                                            [right]  \n",
      "4                                    [sisters, doin]  \n"
     ]
    }
   ],
   "source": [
    "print(tweets.head())"
   ]
  },
  {
   "cell_type": "code",
   "execution_count": null,
   "id": "b4268e64",
   "metadata": {},
   "outputs": [],
   "source": [
    "#Clustering avec K-Means :"
   ]
  },
  {
   "cell_type": "code",
   "execution_count": 35,
   "id": "dc12f776",
   "metadata": {},
   "outputs": [],
   "source": [
    "from sklearn.cluster import KMeans\n",
    "kmeans = KMeans(n_clusters=5, random_state=0)\n",
    "tweets['cluster_kmeans'] = kmeans.fit_predict(X)\n"
   ]
  },
  {
   "cell_type": "code",
   "execution_count": 36,
   "id": "4c749554",
   "metadata": {},
   "outputs": [
    {
     "name": "stdout",
     "output_type": "stream",
     "text": [
      "      author                                            content country  \\\n",
      "0  katyperry  Is history repeating itself...?#DONTNORMALIZEH...     NaN   \n",
      "1  katyperry  @barackobama Thank you for your incredible gra...     NaN   \n",
      "2  katyperry                Life goals. https://t.co/XIn1qKMKQl     NaN   \n",
      "3  katyperry            Me right now 🙏🏻 https://t.co/gW55C1wrwd     NaN   \n",
      "4  katyperry  SISTERS ARE DOIN' IT FOR THEMSELVES! 🙌🏻💪🏻❤️ ht...     NaN   \n",
      "\n",
      "          date_time            id language  latitude  longitude  \\\n",
      "0  12/01/2017 19:52  8.196330e+17       en       NaN        NaN   \n",
      "1  11/01/2017 08:38  8.191010e+17       en       NaN        NaN   \n",
      "2  11/01/2017 02:52  8.190140e+17       en       NaN        NaN   \n",
      "3  11/01/2017 02:44  8.190120e+17       en       NaN        NaN   \n",
      "4  10/01/2017 05:22  8.186890e+17       en       NaN        NaN   \n",
      "\n",
      "   number_of_likes  number_of_shares  \\\n",
      "0             7900              3472   \n",
      "1             3689              1380   \n",
      "2            10341              2387   \n",
      "3            10774              2458   \n",
      "4            17620              4655   \n",
      "\n",
      "                                        cleaned_text  \\\n",
      "0                       is history repeating itself    \n",
      "1   thank you for your incredible grace in leader...   \n",
      "2                                        life goals    \n",
      "3                                      me right now    \n",
      "4                sisters are doin it for themselves    \n",
      "\n",
      "                                              tokens  cluster_kmeans  \n",
      "0                               [history, repeating]               0  \n",
      "1  [thank, incredible, grace, leadership, excepti...               3  \n",
      "2                                      [life, goals]               0  \n",
      "3                                            [right]               0  \n",
      "4                                    [sisters, doin]               0  \n"
     ]
    }
   ],
   "source": [
    "print(tweets.head())"
   ]
  },
  {
   "cell_type": "code",
   "execution_count": null,
   "id": "495ab056",
   "metadata": {},
   "outputs": [],
   "source": [
    "#Clustering avec Fuzzy C-Means :"
   ]
  },
  {
   "cell_type": "code",
   "execution_count": 37,
   "id": "37d89880",
   "metadata": {},
   "outputs": [],
   "source": [
    "import skfuzzy as fuzz\n",
    "cntr, u, u0, d, jm, p, fpc = fuzz.cluster.cmeans(X.toarray().T, 5, 2, error=0.005, maxiter=1000, init=None)\n",
    "tweets['cluster_fuzzy'] = u.argmax(axis=0)"
   ]
  },
  {
   "cell_type": "code",
   "execution_count": 38,
   "id": "51607bb3",
   "metadata": {},
   "outputs": [
    {
     "name": "stdout",
     "output_type": "stream",
     "text": [
      "      author                                            content country  \\\n",
      "0  katyperry  Is history repeating itself...?#DONTNORMALIZEH...     NaN   \n",
      "1  katyperry  @barackobama Thank you for your incredible gra...     NaN   \n",
      "2  katyperry                Life goals. https://t.co/XIn1qKMKQl     NaN   \n",
      "3  katyperry            Me right now 🙏🏻 https://t.co/gW55C1wrwd     NaN   \n",
      "4  katyperry  SISTERS ARE DOIN' IT FOR THEMSELVES! 🙌🏻💪🏻❤️ ht...     NaN   \n",
      "\n",
      "          date_time            id language  latitude  longitude  \\\n",
      "0  12/01/2017 19:52  8.196330e+17       en       NaN        NaN   \n",
      "1  11/01/2017 08:38  8.191010e+17       en       NaN        NaN   \n",
      "2  11/01/2017 02:52  8.190140e+17       en       NaN        NaN   \n",
      "3  11/01/2017 02:44  8.190120e+17       en       NaN        NaN   \n",
      "4  10/01/2017 05:22  8.186890e+17       en       NaN        NaN   \n",
      "\n",
      "   number_of_likes  number_of_shares  \\\n",
      "0             7900              3472   \n",
      "1             3689              1380   \n",
      "2            10341              2387   \n",
      "3            10774              2458   \n",
      "4            17620              4655   \n",
      "\n",
      "                                        cleaned_text  \\\n",
      "0                       is history repeating itself    \n",
      "1   thank you for your incredible grace in leader...   \n",
      "2                                        life goals    \n",
      "3                                      me right now    \n",
      "4                sisters are doin it for themselves    \n",
      "\n",
      "                                              tokens  cluster_kmeans  \\\n",
      "0                               [history, repeating]               0   \n",
      "1  [thank, incredible, grace, leadership, excepti...               3   \n",
      "2                                      [life, goals]               0   \n",
      "3                                            [right]               0   \n",
      "4                                    [sisters, doin]               0   \n",
      "\n",
      "   cluster_fuzzy  \n",
      "0              2  \n",
      "1              4  \n",
      "2              2  \n",
      "3              2  \n",
      "4              2  \n"
     ]
    }
   ],
   "source": [
    "print(tweets.head())"
   ]
  },
  {
   "cell_type": "code",
   "execution_count": null,
   "id": "2e3a6afc",
   "metadata": {},
   "outputs": [],
   "source": [
    "#Calcul de la distance Jaccard :\n",
    "#Utilisez cette formule pour comparer deux ensembles de mots (tokens)"
   ]
  },
  {
   "cell_type": "code",
   "execution_count": 39,
   "id": "d0b72362",
   "metadata": {},
   "outputs": [],
   "source": [
    "from sklearn.metrics import jaccard_score\n",
    "def jaccard_similarity(list1, list2):\n",
    "    intersection = len(set(list1) & set(list2))\n",
    "    union = len(set(list1) | set(list2))\n",
    "    return intersection / union"
   ]
  },
  {
   "cell_type": "code",
   "execution_count": 40,
   "id": "0d0b9d36",
   "metadata": {},
   "outputs": [
    {
     "name": "stdout",
     "output_type": "stream",
     "text": [
      "      author                                            content country  \\\n",
      "0  katyperry  Is history repeating itself...?#DONTNORMALIZEH...     NaN   \n",
      "1  katyperry  @barackobama Thank you for your incredible gra...     NaN   \n",
      "2  katyperry                Life goals. https://t.co/XIn1qKMKQl     NaN   \n",
      "3  katyperry            Me right now 🙏🏻 https://t.co/gW55C1wrwd     NaN   \n",
      "4  katyperry  SISTERS ARE DOIN' IT FOR THEMSELVES! 🙌🏻💪🏻❤️ ht...     NaN   \n",
      "\n",
      "          date_time            id language  latitude  longitude  \\\n",
      "0  12/01/2017 19:52  8.196330e+17       en       NaN        NaN   \n",
      "1  11/01/2017 08:38  8.191010e+17       en       NaN        NaN   \n",
      "2  11/01/2017 02:52  8.190140e+17       en       NaN        NaN   \n",
      "3  11/01/2017 02:44  8.190120e+17       en       NaN        NaN   \n",
      "4  10/01/2017 05:22  8.186890e+17       en       NaN        NaN   \n",
      "\n",
      "   number_of_likes  number_of_shares  \\\n",
      "0             7900              3472   \n",
      "1             3689              1380   \n",
      "2            10341              2387   \n",
      "3            10774              2458   \n",
      "4            17620              4655   \n",
      "\n",
      "                                        cleaned_text  \\\n",
      "0                       is history repeating itself    \n",
      "1   thank you for your incredible grace in leader...   \n",
      "2                                        life goals    \n",
      "3                                      me right now    \n",
      "4                sisters are doin it for themselves    \n",
      "\n",
      "                                              tokens  cluster_kmeans  \\\n",
      "0                               [history, repeating]               0   \n",
      "1  [thank, incredible, grace, leadership, excepti...               3   \n",
      "2                                      [life, goals]               0   \n",
      "3                                            [right]               0   \n",
      "4                                    [sisters, doin]               0   \n",
      "\n",
      "   cluster_fuzzy  \n",
      "0              2  \n",
      "1              4  \n",
      "2              2  \n",
      "3              2  \n",
      "4              2  \n"
     ]
    }
   ],
   "source": [
    "print(tweets.head())"
   ]
  },
  {
   "cell_type": "code",
   "execution_count": null,
   "id": "978de4e4",
   "metadata": {},
   "outputs": [],
   "source": [
    "#Choisir un centroïde par cluster :\n",
    "#Sélectionnez un tweet représentatif dans chaque groupe"
   ]
  },
  {
   "cell_type": "code",
   "execution_count": 41,
   "id": "b0fe2bdb",
   "metadata": {},
   "outputs": [
    {
     "name": "stdout",
     "output_type": "stream",
     "text": [
      "Centroids: ['is history repeating itself ', 'happy holidays sending love and light to every corner of the earth ', ' thank you for this foto', ' thank you for your incredible grace in leadership and for being an exceptional ', 'aw you made me cry love you fam ']\n"
     ]
    }
   ],
   "source": [
    "def get_centroid(cluster):\n",
    "    return tweets[tweets['cluster_kmeans'] == cluster]['cleaned_text'].iloc[0]\n",
    "\n",
    "centroids = [get_centroid(i) for i in range(5)]\n",
    "print(\"Centroids:\", centroids)"
   ]
  },
  {
   "cell_type": "code",
   "execution_count": 42,
   "id": "94517927",
   "metadata": {},
   "outputs": [
    {
     "name": "stdout",
     "output_type": "stream",
     "text": [
      "      author                                            content country  \\\n",
      "0  katyperry  Is history repeating itself...?#DONTNORMALIZEH...     NaN   \n",
      "1  katyperry  @barackobama Thank you for your incredible gra...     NaN   \n",
      "2  katyperry                Life goals. https://t.co/XIn1qKMKQl     NaN   \n",
      "3  katyperry            Me right now 🙏🏻 https://t.co/gW55C1wrwd     NaN   \n",
      "4  katyperry  SISTERS ARE DOIN' IT FOR THEMSELVES! 🙌🏻💪🏻❤️ ht...     NaN   \n",
      "\n",
      "          date_time            id language  latitude  longitude  \\\n",
      "0  12/01/2017 19:52  8.196330e+17       en       NaN        NaN   \n",
      "1  11/01/2017 08:38  8.191010e+17       en       NaN        NaN   \n",
      "2  11/01/2017 02:52  8.190140e+17       en       NaN        NaN   \n",
      "3  11/01/2017 02:44  8.190120e+17       en       NaN        NaN   \n",
      "4  10/01/2017 05:22  8.186890e+17       en       NaN        NaN   \n",
      "\n",
      "   number_of_likes  number_of_shares  \\\n",
      "0             7900              3472   \n",
      "1             3689              1380   \n",
      "2            10341              2387   \n",
      "3            10774              2458   \n",
      "4            17620              4655   \n",
      "\n",
      "                                        cleaned_text  \\\n",
      "0                       is history repeating itself    \n",
      "1   thank you for your incredible grace in leader...   \n",
      "2                                        life goals    \n",
      "3                                      me right now    \n",
      "4                sisters are doin it for themselves    \n",
      "\n",
      "                                              tokens  cluster_kmeans  \\\n",
      "0                               [history, repeating]               0   \n",
      "1  [thank, incredible, grace, leadership, excepti...               3   \n",
      "2                                      [life, goals]               0   \n",
      "3                                            [right]               0   \n",
      "4                                    [sisters, doin]               0   \n",
      "\n",
      "   cluster_fuzzy  \n",
      "0              2  \n",
      "1              4  \n",
      "2              2  \n",
      "3              2  \n",
      "4              2  \n"
     ]
    }
   ],
   "source": [
    "print(tweets.head())"
   ]
  },
  {
   "cell_type": "code",
   "execution_count": 44,
   "id": "5af6b7b7",
   "metadata": {},
   "outputs": [
    {
     "name": "stdout",
     "output_type": "stream",
     "text": [
      "Centroids for K-Means Clusters:\n",
      "Cluster 0: is history repeating itself \n",
      "Cluster 1: happy holidays sending love and light to every corner of the earth \n",
      "Cluster 2:  thank you for this foto\n",
      "Cluster 3:  thank you for your incredible grace in leadership and for being an exceptional \n",
      "Cluster 4: aw you made me cry love you fam \n",
      "\n",
      "Clusters and their Tweets (K-Means):\n",
      "\n",
      "Cluster 0:\n",
      "['is history repeating itself ', 'life goals ', 'me right now ', 'sisters are doin it for themselves ', 'happy 96th gma lacma los angeles county museum of art ']\n",
      "\n",
      "Cluster 1:\n",
      "['happy holidays sending love and light to every corner of the earth ', 'love the music therapy program at chla ', 'i can t wait to recreate this on a tour we do together in the next 10 years pls thnx ', ' imma make a best of 16 spotify playlist and half of these are on there i love our taste ', 'this holiday season be the girl that takes jump photos at the mall wears activewear at night ']\n",
      "\n",
      "Cluster 2:\n",
      "[' thank you for this foto', ' thank you for this', ' so much', 'thank you for boppin babe ', 'thank you for celebrating my aesthetics ']\n",
      "\n",
      "Cluster 3:\n",
      "[' thank you for your incredible grace in leadership and for being an exceptional ', 'damn it s hard to wrap presents when you re drunk cc ', ' have you been hacked', 'i dare you to find a better live vocal performance than this timeless masterpiece ', ' how bout you start with an apology for your divisive racist xenophobic rhetoric ']\n",
      "\n",
      "Cluster 4:\n",
      "['aw you made me cry love you fam ', 'i love you pre internet ', ' listens to i love kanye once ', ' too much for me but i love', ' love this we can t say hate ok']\n",
      "\n",
      "Clusters and their Tweets (Fuzzy C-Means):\n",
      "\n",
      "Cluster 0:\n",
      "['2 hours to go ready ', 'have fun in toronto tonight ', ' from my fenty for collection coming soon ', 'yo his name s and he s here to say he loves rubber duckies in every way ', 'turn on monsters i m live in 2 min w my buddy ']\n",
      "\n",
      "Cluster 1:\n",
      "[' have you been hacked', 'yes i love that we are getting into real issues even uncomfortable ones ', 'so ready ', 'ill be your weasel you be my woodpecker ride or die ', ' you too my fav aussie bear ']\n",
      "\n",
      "Cluster 2:\n",
      "['is history repeating itself ', 'life goals ', 'me right now ', 'sisters are doin it for themselves ', 'happy 96th gma lacma los angeles county museum of art ']\n",
      "\n",
      "Cluster 3:\n",
      "[' you re clever', 'you hear it as excellent i hear it as egg salad with lint ', 'really encouraged to be an american today love should live beyond labels amp intolerance ', 'do you think people are really sleeping when they take selfies of themselves sleeping ', ' don t hate yourself love yourself you were doing good ']\n",
      "\n",
      "Cluster 4:\n",
      "[' thank you for your incredible grace in leadership and for being an exceptional ', 'happy holidays sending love and light to every corner of the earth ', 'damn it s hard to wrap presents when you re drunk cc ', 'this week santa and i got to spread some cheer and have a carol sing a long with some beautiful ', 'i can t wait to recreate this on a tour we do together in the next 10 years pls thnx ']\n"
     ]
    }
   ],
   "source": [
    "# Affichage des centroïdes pour K-Means\n",
    "centroids = [get_centroid(i) for i in range(5)]\n",
    "print(\"Centroids for K-Means Clusters:\")\n",
    "for i, centroid in enumerate(centroids):\n",
    "    print(f\"Cluster {i}: {centroid}\")\n",
    "\n",
    "# Affichage des clusters pour K-Means\n",
    "print(\"\\nClusters and their Tweets (K-Means):\")\n",
    "for cluster_id in range(5):\n",
    "    print(f\"\\nCluster {cluster_id}:\")\n",
    "    print(tweets[tweets['cluster_kmeans'] == cluster_id]['cleaned_text'].head().tolist())\n",
    "\n",
    "# Affichage des clusters pour Fuzzy C-Means\n",
    "print(\"\\nClusters and their Tweets (Fuzzy C-Means):\")\n",
    "for cluster_id in range(5):\n",
    "    print(f\"\\nCluster {cluster_id}:\")\n",
    "    print(tweets[tweets['cluster_fuzzy'] == cluster_id]['cleaned_text'].head().tolist())\n"
   ]
  },
  {
   "cell_type": "code",
   "execution_count": null,
   "id": "d33fb778",
   "metadata": {},
   "outputs": [],
   "source": []
  }
 ],
 "metadata": {
  "kernelspec": {
   "display_name": "Python 3 (ipykernel)",
   "language": "python",
   "name": "python3"
  },
  "language_info": {
   "codemirror_mode": {
    "name": "ipython",
    "version": 3
   },
   "file_extension": ".py",
   "mimetype": "text/x-python",
   "name": "python",
   "nbconvert_exporter": "python",
   "pygments_lexer": "ipython3",
   "version": "3.9.12"
  }
 },
 "nbformat": 4,
 "nbformat_minor": 5
}
